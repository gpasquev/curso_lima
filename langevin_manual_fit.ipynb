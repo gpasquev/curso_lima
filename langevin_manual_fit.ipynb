{
 "cells": [
  {
   "cell_type": "code",
   "execution_count": 2,
   "id": "1a6d2ee3-0d81-4c6f-8768-e01cab82d657",
   "metadata": {},
   "outputs": [
    {
     "data": {
      "text/plain": [
       "Text(0, 0.5, 'M(T)')"
      ]
     },
     "execution_count": 2,
     "metadata": {},
     "output_type": "execute_result"
    }
   ],
   "source": [
    "import numpy as np\n",
    "import matplotlib.pyplot as plt\n",
    "from ipywidgets import interact, FloatSlider\n",
    "\n",
    "# Define función de Langevin\n",
    "def langevin(x,a=1):\n",
    "    \"\"\" Langevin function.\n",
    "        .. math::\n",
    "            langevin(x;a) = L(a*x) = coth(a*x) - 1/(a*x)\n",
    "    \"\"\"\n",
    "    w = x==0\n",
    "    if np.any(w):                  #  El condicional está para evitar la \n",
    "        w2 = ~w                             #  singularidad removible. \n",
    "        y = np.zeros(np.shape(x))                    \n",
    "        y[w2] = 1./np.tanh(a*x[w2]) -1./(a*x[w2])\n",
    "        return y\n",
    "    else:      \n",
    "        return 1./np.tanh(a*x) -1./(a*x)\n",
    "\n",
    "mb = 9.27e-24  #J/T\n",
    "kb = 1.38e-23  #J/K\n",
    "T = 300\n",
    "\n",
    "# ==================================================================\n",
    "# Carga de curvas experimentales \n",
    "\n",
    "A = np.loadtxt('datos/FF281023Paula(0,00061131g).txt')\n",
    "x = A[:,0]/1e4 # campo en Tesla\n",
    "y = A[:,2]\n",
    "\n",
    "#A = np.loadtxt('datos/12FFPRAG.2col.txt')\n",
    "#x = A[:,0]/1e4 # campo en Tesla\n",
    "#y = A[:,1]\n",
    "\n",
    "# ==================================================================\n",
    "\n",
    "\n",
    "# figura del ciclo elegido.\n",
    "plt.plot(x,y,'.k')\n",
    "plt.xlabel('B(T)')\n",
    "plt.ylabel('M(T)')\n"
   ]
  },
  {
   "cell_type": "code",
   "execution_count": 5,
   "id": "076b497c-34f7-4f1a-a23c-48fc0a6d9372",
   "metadata": {},
   "outputs": [
    {
     "data": {
      "application/vnd.jupyter.widget-view+json": {
       "model_id": "1de325d008c8405c8b5b71ebbba3d24a",
       "version_major": 2,
       "version_minor": 0
      },
      "text/plain": [
       "interactive(children=(FloatSlider(value=31.28617231846365, description='Ms', max=75.08681356431275, readout_fo…"
      ]
     },
     "metadata": {},
     "output_type": "display_data"
    }
   ],
   "source": [
    "# fig y axes\n",
    "\n",
    "def f(Ms=1, mu = 1):\n",
    "    plt.cla()\n",
    "    plt.plot(x, y,'.k')\n",
    "    yl = Ms*langevin(x,mu*mb/kb/T)\n",
    "    plt.plot(x,yl,'r')\n",
    "    plt.grid(True)\n",
    "    plt.ylim(max(y)*np.array([-1.1,1.1]))\n",
    "    plt.show()\n",
    "\n",
    "# sliders automáticos\n",
    "slider_Ms = FloatSlider(min=0, max=max(y)*1.2, step=0.0001, value=max(y)/2, description='Ms', readout_format='.3f')\n",
    "slider_mu = FloatSlider(min=1, max=1e5, step=1, value=10000, description='mu', readout_format='.0f')\n",
    "\n",
    "interact(f, Ms=slider_Ms, mu=slider_mu)\n",
    "\n",
    "f()"
   ]
  },
  {
   "cell_type": "code",
   "execution_count": null,
   "id": "39760a4d-6c5d-4da3-91d2-69d0a8c291b3",
   "metadata": {},
   "outputs": [],
   "source": []
  },
  {
   "cell_type": "code",
   "execution_count": null,
   "id": "7e51912b-c455-4400-b061-17cd15af5e58",
   "metadata": {},
   "outputs": [],
   "source": []
  }
 ],
 "metadata": {
  "kernelspec": {
   "display_name": "Python 3 (Spyder)",
   "language": "python3",
   "name": "python3"
  },
  "language_info": {
   "codemirror_mode": {
    "name": "ipython",
    "version": 3
   },
   "file_extension": ".py",
   "mimetype": "text/x-python",
   "name": "python",
   "nbconvert_exporter": "python",
   "pygments_lexer": "ipython3",
   "version": "3.8.12"
  }
 },
 "nbformat": 4,
 "nbformat_minor": 5
}
