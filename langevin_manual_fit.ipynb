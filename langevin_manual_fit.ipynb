{
 "cells": [
  {
   "cell_type": "code",
   "execution_count": 24,
   "id": "350f1a34-8b70-4f6d-83a3-4777bc3e7b69",
   "metadata": {},
   "outputs": [
    {
     "name": "stdout",
     "output_type": "stream",
     "text": [
      "22.391304347826082\n"
     ]
    },
    {
     "data": {
      "application/vnd.jupyter.widget-view+json": {
       "model_id": "64ec0a2ec07141439154350fdae9e993",
       "version_major": 2,
       "version_minor": 0
      },
      "text/plain": [
       "interactive(children=(FloatSlider(value=0.02431224, description='Ms', max=0.02431224, readout_format='.3f', st…"
      ]
     },
     "metadata": {},
     "output_type": "display_data"
    },
    {
     "data": {
      "text/plain": [
       "<function __main__.f(Ms=1, a=1)>"
      ]
     },
     "execution_count": 24,
     "metadata": {},
     "output_type": "execute_result"
    }
   ],
   "source": [
    "import numpy as np\n",
    "import matplotlib.pyplot as plt\n",
    "from ipywidgets import interact, FloatSlider\n",
    "\n",
    "# Define función de Langevin\n",
    "def langevin(x,a=1):\n",
    "    \"\"\" Langevin function.\n",
    "        .. math::\n",
    "            langevin(x;a) = L(a*x) = coth(a*x) - 1/(a*x)\n",
    "    \"\"\"\n",
    "    w = x==0\n",
    "    if np.any(w):                  #  Los condicionales aparecen para evitar la \n",
    "        w2 = ~w                             #  singularidad removible. Ver nota\n",
    "        y = np.zeros(np.shape(x))                    #  150322 en el historial.\n",
    "        y[w2] = 1./np.tanh(a*x[w2]) -1./(a*x[w2])\n",
    "        return y\n",
    "    else:      \n",
    "        return 1./np.tanh(a*x) -1./(a*x)\n",
    "\n",
    "mb = 9.27e-24  #J/T\n",
    "kb = 1.38e-23  #J/K\n",
    "T = 300\n",
    "\n",
    "print(10000*mb/kb/T)\n",
    "\n",
    "A = np.loadtxt('datos/12FFPRAG.2col.txt')\n",
    "x = A[:,0]/1e4 # campo en Tesla\n",
    "y = A[:,1]\n",
    "\n",
    "\n",
    "\n",
    "def f(Ms=1, a = 1):\n",
    "    plt.plot(x, y,'.k')\n",
    "    yl = Ms*langevin(x,a*mb/kb/T)\n",
    "    plt.plot(x,yl,'r')\n",
    "    plt.grid(True)\n",
    "    plt.ylim(max(y)*np.array([-1.1,1.1]))\n",
    "    plt.show()\n",
    "\n",
    "# sliders automáticos\n",
    "slider_a = FloatSlider(min=0, max=max(y)*1.2, step=0.0001, value=1, description='Ms', readout_format='.3f')\n",
    "#slider_b = FloatSlider(min=0.001, max=5, step=0.001, value=1, description='b', readout_format='.3f')\n",
    "\n",
    "interact(f, Ms=slider_a, a=(0.1, 1e5, 1))\n",
    "#interact(f, Ms=(0, max(y)*1.2,max(y)*1.2/1000), a=(0.1, 1e5, 1));\n"
   ]
  },
  {
   "cell_type": "code",
   "execution_count": null,
   "id": "076b497c-34f7-4f1a-a23c-48fc0a6d9372",
   "metadata": {},
   "outputs": [],
   "source": []
  }
 ],
 "metadata": {
  "kernelspec": {
   "display_name": "Python 3 (ipykernel)",
   "language": "python",
   "name": "python3"
  },
  "language_info": {
   "codemirror_mode": {
    "name": "ipython",
    "version": 3
   },
   "file_extension": ".py",
   "mimetype": "text/x-python",
   "name": "python",
   "nbconvert_exporter": "python",
   "pygments_lexer": "ipython3",
   "version": "3.8.12"
  }
 },
 "nbformat": 4,
 "nbformat_minor": 5
}
